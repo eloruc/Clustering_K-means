{
  "nbformat": 4,
  "nbformat_minor": 0,
  "metadata": {
    "colab": {
      "name": "k-means.ipynb",
      "provenance": [],
      "collapsed_sections": []
    },
    "kernelspec": {
      "name": "python3",
      "display_name": "Python 3"
    }
  },
  "cells": [
    {
      "cell_type": "markdown",
      "metadata": {
        "id": "vmpVdmLDHWkm",
        "colab_type": "text"
      },
      "source": [
        "Datasetlər olan kitabxana, normallaşdırma, klasterizasiya və vizualizasiya kitabxanaları yüklənir."
      ]
    },
    {
      "cell_type": "code",
      "metadata": {
        "id": "ui1n0Uue_tDj",
        "colab_type": "code",
        "colab": {}
      },
      "source": [
        "from sklearn import datasets\n",
        "from sklearn.preprocessing import StandardScaler\n",
        "from sklearn.cluster import KMeans\n",
        "import matplotlib.pyplot as plt"
      ],
      "execution_count": 16,
      "outputs": []
    },
    {
      "cell_type": "markdown",
      "metadata": {
        "id": "NIbka3eDHpPG",
        "colab_type": "text"
      },
      "source": [
        "Datasetlər arasından İRİS bazası yüklənir."
      ]
    },
    {
      "cell_type": "code",
      "metadata": {
        "id": "SpOnAdVW_9sa",
        "colab_type": "code",
        "colab": {}
      },
      "source": [
        "baza=datasets.load_iris()\n",
        "features=baza.data"
      ],
      "execution_count": 36,
      "outputs": []
    },
    {
      "cell_type": "markdown",
      "metadata": {
        "id": "JUG1x4_mU856",
        "colab_type": "text"
      },
      "source": [
        "Ədədi verilənlərin normallaşdırılması üçün StandartScaler funksiyasından istifadə edilir."
      ]
    },
    {
      "cell_type": "code",
      "metadata": {
        "id": "ut7f7F8MAp8l",
        "colab_type": "code",
        "colab": {}
      },
      "source": [
        "scaler = StandardScaler()\n",
        "features_std = scaler.fit_transform(features)"
      ],
      "execution_count": 37,
      "outputs": []
    },
    {
      "cell_type": "markdown",
      "metadata": {
        "id": "S_0pgsoZVXUw",
        "colab_type": "text"
      },
      "source": [
        "K-Means alqoritmi üçün klasterlərin sayı 3 olaraq əvvəlcədən təyin edilir."
      ]
    },
    {
      "cell_type": "code",
      "metadata": {
        "id": "mPdBaK-mBTCi",
        "colab_type": "code",
        "colab": {}
      },
      "source": [
        "cluster = KMeans(n_clusters=3, random_state=0, n_jobs=-1, init='k-means++')"
      ],
      "execution_count": 38,
      "outputs": []
    },
    {
      "cell_type": "markdown",
      "metadata": {
        "id": "349BT7yZYA_Y",
        "colab_type": "text"
      },
      "source": [
        "Klasterizasiya nəticəsində əldə olunan qrupların nömrələri (label) CSV faylına yazılır."
      ]
    },
    {
      "cell_type": "code",
      "metadata": {
        "id": "E90-RMBSBbeW",
        "colab_type": "code",
        "colab": {}
      },
      "source": [
        "model = cluster.fit(features_std)\n",
        "label=model.labels_\n",
        "df=pd.DataFrame(label)\n",
        "df.to_csv (r'/dataframe.csv', index = False, header=True)"
      ],
      "execution_count": 39,
      "outputs": []
    },
    {
      "cell_type": "markdown",
      "metadata": {
        "id": "B6fICULzZDr3",
        "colab_type": "text"
      },
      "source": [
        "model.labels_ və predict(features_std) nəticələri eyni qrupları verir. Klasterlərin sayını 3 seçdiyimiz üçün yaranan qruplar 0, 1 və 2 olaraq işarə edilmişdir."
      ]
    },
    {
      "cell_type": "code",
      "metadata": {
        "id": "YQzxf_51Begt",
        "colab_type": "code",
        "colab": {
          "base_uri": "https://localhost:8080/",
          "height": 146
        },
        "outputId": "e9e62b5b-acb1-4f30-c45e-0d1d6f2faa14"
      },
      "source": [
        "cluster.predict(features_std)"
      ],
      "execution_count": 40,
      "outputs": [
        {
          "output_type": "execute_result",
          "data": {
            "text/plain": [
              "array([1, 1, 1, 1, 1, 1, 1, 1, 1, 1, 1, 1, 1, 1, 1, 1, 1, 1, 1, 1, 1, 1,\n",
              "       1, 1, 1, 1, 1, 1, 1, 1, 1, 1, 1, 1, 1, 1, 1, 1, 1, 1, 1, 1, 1, 1,\n",
              "       1, 1, 1, 1, 1, 1, 0, 0, 0, 2, 2, 2, 0, 2, 2, 2, 2, 2, 2, 2, 2, 0,\n",
              "       2, 2, 2, 2, 0, 2, 2, 2, 2, 0, 0, 0, 2, 2, 2, 2, 2, 2, 2, 0, 0, 2,\n",
              "       2, 2, 2, 2, 2, 2, 2, 2, 2, 2, 2, 2, 0, 2, 0, 0, 0, 0, 2, 0, 0, 0,\n",
              "       0, 0, 0, 2, 2, 0, 0, 0, 0, 2, 0, 2, 0, 2, 0, 0, 2, 0, 0, 0, 0, 0,\n",
              "       0, 2, 2, 0, 0, 0, 2, 0, 0, 0, 2, 0, 0, 0, 2, 0, 0, 2], dtype=int32)"
            ]
          },
          "metadata": {
            "tags": []
          },
          "execution_count": 40
        }
      ]
    },
    {
      "cell_type": "code",
      "metadata": {
        "id": "lsWqBV5PZXV_",
        "colab_type": "code",
        "colab": {
          "base_uri": "https://localhost:8080/",
          "height": 146
        },
        "outputId": "985cc8ce-3c29-479d-c265-12a98368cc34"
      },
      "source": [
        "model.labels_"
      ],
      "execution_count": 41,
      "outputs": [
        {
          "output_type": "execute_result",
          "data": {
            "text/plain": [
              "array([1, 1, 1, 1, 1, 1, 1, 1, 1, 1, 1, 1, 1, 1, 1, 1, 1, 1, 1, 1, 1, 1,\n",
              "       1, 1, 1, 1, 1, 1, 1, 1, 1, 1, 1, 1, 1, 1, 1, 1, 1, 1, 1, 1, 1, 1,\n",
              "       1, 1, 1, 1, 1, 1, 0, 0, 0, 2, 2, 2, 0, 2, 2, 2, 2, 2, 2, 2, 2, 0,\n",
              "       2, 2, 2, 2, 0, 2, 2, 2, 2, 0, 0, 0, 2, 2, 2, 2, 2, 2, 2, 0, 0, 2,\n",
              "       2, 2, 2, 2, 2, 2, 2, 2, 2, 2, 2, 2, 0, 2, 0, 0, 0, 0, 2, 0, 0, 0,\n",
              "       0, 0, 0, 2, 2, 0, 0, 0, 0, 2, 0, 2, 0, 2, 0, 0, 2, 0, 0, 0, 0, 0,\n",
              "       0, 2, 2, 0, 0, 0, 2, 0, 0, 0, 2, 0, 0, 0, 2, 0, 0, 2], dtype=int32)"
            ]
          },
          "metadata": {
            "tags": []
          },
          "execution_count": 41
        }
      ]
    },
    {
      "cell_type": "markdown",
      "metadata": {
        "id": "K_mLhY2HZxOE",
        "colab_type": "text"
      },
      "source": [
        "Klasterlərin mərkəzi nöqtələrinə baxmaq üçün:"
      ]
    },
    {
      "cell_type": "code",
      "metadata": {
        "id": "2YRqFCteBiar",
        "colab_type": "code",
        "colab": {
          "base_uri": "https://localhost:8080/",
          "height": 72
        },
        "outputId": "746ac012-9f6c-4296-e89b-d5d8cff65857"
      },
      "source": [
        "print(cluster.cluster_centers_)"
      ],
      "execution_count": 31,
      "outputs": [
        {
          "output_type": "stream",
          "text": [
            "[[ 1.13597027  0.08842168  0.99615451  1.01752612]\n",
            " [-1.01457897  0.85326268 -1.30498732 -1.25489349]\n",
            " [-0.05021989 -0.88337647  0.34773781  0.2815273 ]]\n"
          ],
          "name": "stdout"
        }
      ]
    },
    {
      "cell_type": "markdown",
      "metadata": {
        "id": "ZYXMOHIqZ81m",
        "colab_type": "text"
      },
      "source": [
        "Nümunələrin qruplar şəklində vizuallaşdırılması. (Matplotlib kitabxanasını əvvəlcədən yükləmişdik)"
      ]
    },
    {
      "cell_type": "code",
      "metadata": {
        "id": "jRWlE66pF7HW",
        "colab_type": "code",
        "colab": {
          "base_uri": "https://localhost:8080/",
          "height": 281
        },
        "outputId": "e08cd71c-10aa-4d9e-f06c-108813d384d0"
      },
      "source": [
        "plt.scatter(features_std[predict==0,0],features_std[predict==0,1],s=50,color='red')\n",
        "plt.scatter(features_std[predict==1,0],features_std[predict==1,1],s=50,color='blue')\n",
        "plt.scatter(features_std[predict==2,0],features_std[predict==2,1],s=50,color='green')\n",
        "plt.title('k-means alqoritminin IRIS datasetinə tətbiqi')\n",
        "plt.show()"
      ],
      "execution_count": 43,
      "outputs": [
        {
          "output_type": "display_data",
          "data": {
            "image/png": "[encoded data removed]",
            "text/plain": [
              "<Figure size 432x288 with 1 Axes>"
            ]
          },
          "metadata": {
            "tags": [],
            "needs_background": "light"
          }
        }
      ]
    },
    {
      "cell_type": "markdown",
      "metadata": {
        "id": "8poJPB8vpyYJ",
        "colab_type": "text"
      },
      "source": [
        "Yuxarıda klaster sayını təsadüfi olaraq 3 seçmişdik. Təsadüfi şəkildə seçim problemlərə yol aça bilər. Bu səbəbdən optimal sayda klasterlərin seçilməsi üçün elbow metodu tətbiq edilir."
      ]
    },
    {
      "cell_type": "code",
      "metadata": {
        "id": "hLdiveKyGNOj",
        "colab_type": "code",
        "colab": {
          "base_uri": "https://localhost:8080/",
          "height": 295
        },
        "outputId": "0c9fac14-2a1f-493a-c12c-25b1ad8afa4b"
      },
      "source": [
        "ss = []\n",
        "for i in range(1,11):\n",
        "    cluster=KMeans(n_clusters=i,init='k-means++', max_iter=300, n_init=10, random_state=0)\n",
        "    cluster.fit(features_std)\n",
        "    ss.append(cluster.inertia_)\n",
        "plt.plot(range(1,11),ss)\n",
        "plt.title('Elbow Metodu')\n",
        "plt.xlabel('Klasterlerin sayi')\n",
        "plt.ylabel('ss')\n",
        "plt.show()"
      ],
      "execution_count": 44,
      "outputs": [
        {
          "output_type": "display_data",
          "data": {
            "image/png": "[encoded data removed]",
            "text/plain": [
              "<Figure size 432x288 with 1 Axes>"
            ]
          },
          "metadata": {
            "tags": [],
            "needs_background": "light"
          }
        }
      ]
    },
    {
      "cell_type": "markdown",
      "metadata": {
        "id": "LHRBUKpMbzx4",
        "colab_type": "text"
      },
      "source": [
        "Burada ss - klasterdəki hər bir verilənin klaster mərkəzindən olan məsafəsinin kvadratları cəmidir. İdeal halda bu cəm sıfıra bərabər olardı və bu o demək idi ki, hər bir verilən özü bir klasterdir. Bu isə mənasızdır. Elbow metodunun qrafikinə nəzər salsaq 4 və 6 arasında qırılmanı da görə bilərik. Yəni klaster sayının 5 seçilməsi də yaxşı qərar olardı."
      ]
    },
    {
      "cell_type": "code",
      "metadata": {
        "id": "zvGAQoFSqQDM",
        "colab_type": "code",
        "colab": {}
      },
      "source": [
        "km5=KMeans(n_clusters=5,init='k-means++', max_iter=300, n_init=10, random_state=0)\n",
        "y_means = km5.fit_predict(features_std)"
      ],
      "execution_count": 49,
      "outputs": []
    },
    {
      "cell_type": "code",
      "metadata": {
        "id": "kyZmR2WWqYkB",
        "colab_type": "code",
        "colab": {
          "base_uri": "https://localhost:8080/",
          "height": 279
        },
        "outputId": "13b1de1a-d18c-45ee-db5b-cde0c6729df6"
      },
      "source": [
        "plt.scatter(features_std[y_means==0,0],features_std[y_means==0,1],s=50, c='purple',label='klaster 1')\n",
        "plt.scatter(features_std[y_means==1,0],features_std[y_means==1,1],s=50, c='blue',label='klaster 2')\n",
        "plt.scatter(features_std[y_means==2,0],features_std[y_means==2,1],s=50, c='green',label='klaster 3')\n",
        "plt.scatter(features_std[y_means==3,0],features_std[y_means==3,1],s=50, c='cyan',label='klaster 4')\n",
        "plt.scatter(features_std[y_means==4,0],features_std[y_means==4,1],s=50, c='cyan',label='klaster 5')\n",
        "plt.scatter(km5.cluster_centers_[:,0], km4.cluster_centers_[:,1],s=100,marker='s', c='red', \n",
        "            alpha=0.7, label='klaster merkezleri')\n",
        "plt.xlabel('x')\n",
        "plt.ylabel('y')\n",
        "plt.legend()\n",
        "plt.show()"
      ],
      "execution_count": 54,
      "outputs": [
        {
          "output_type": "display_data",
          "data": {
            "image/png": "[encoded data removed]",
            "text/plain": [
              "<Figure size 432x288 with 1 Axes>"
            ]
          },
          "metadata": {
            "tags": [],
            "needs_background": "light"
          }
        }
      ]
    },
    {
      "cell_type": "code",
      "metadata": {
        "id": "9thd1SBsqlYV",
        "colab_type": "code",
        "colab": {}
      },
      "source": [
        ""
      ],
      "execution_count": null,
      "outputs": []
    }
  ]
}